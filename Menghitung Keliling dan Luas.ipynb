#fungsi
def LuasLingkaran(r):
    luasLingkaran = 3.14 * r * r
    return luasLingkaran
def KelilingLingkaran(r):
    kelilingL = 3,14 * 2 * r
    return kelilingLingkaran 
def LuasJajarGenjang(alas,tinggi):
    luasJajarGenjang = alas * tinggi
    return luasJajarGenjang
def KelilingJajarGenjang(sisiX,sisiY):
    kelilingJG = 2 * sisiX + 2 * sisiY
    return kelilingJajarGenjang
#PROGRAM UTAMA
print("Media Perhitungan Luas & Keliling Bangun Datar")
print('')
print('')
pilihan = 1
while pilihan != 0:
    print("1. Luas Lingkaran")
    print("2. Keliling Lingkaran")
    print("3. Luas Jajar Genjang")
    print("4. Keliling Jajar Genjang")
    print("0. Exit")
    print('')

    pilihan = int(input("Masukkan Pilihan : "))
    print('')
    print('')
    print('')
    if pilihan == 1:
        print("Luas Lingkaran")
        print('')
        r = float(input("Masukkan Jari - Jari : "))
        print('')
        print('')
        print("Luas Lingkaran =  %.2f" %LuasLingkaran(r))
        print('')
        print('')
    elif pilihan == 2:
        print("Keliling Lingkaran")
        print('')
        r = float(input("Masukkan Jari - Jari : "))
        print('')
        print('')
        print("Keliling Lingkaran = %.2f" %KelilingLingkaran(r))
        print('')
        print('')
    elif pilihan == 3:
        print("Luas Jarjar Genjang")
        print('')
        alas = float(input("Masukkan Alas : "))
        tinggi = float(input("Masukkan Tinggi : "))
        print('')
        print('')
        print("Luas Jajar Genjang = %.2f" %LuasJajarGenjang(alas,tinggi))
        print('')
        print('')
    elif pilihan == 4:
        print("Keliling Jajar Genjang")
        print('')
        sisiX = float(input("Masukkan Sisi X : "))
        sisiY = float(input("Masukkan Sisi Y : "))
        print('')
        print('')
        print("Keliling Jajar Genjang = %.2f" %KelilingJajarGenjang(sisiX,sisiY))
        print('')
        print('')
    elif pilihan == 0:
        print("exit")
        break
    else:
        print("Masukkan ulang pilihan anda")

